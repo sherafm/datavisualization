{
 "cells": [
  {
   "cell_type": "markdown",
   "metadata": {},
   "source": [
    "## Data Visualization"
   ]
  },
  {
   "cell_type": "markdown",
   "metadata": {},
   "source": [
    "### Matplotlib"
   ]
  },
  {
   "cell_type": "markdown",
   "metadata": {},
   "source": [
    "Matplotlib allows an easy integration with Pandas to create charts from a DataFrame: Barcharts, Scatterplots, Curbs, etc. with custom Axes and Colors."
   ]
  },
  {
   "cell_type": "code",
   "execution_count": 7,
   "metadata": {
    "collapsed": false
   },
   "outputs": [],
   "source": [
    "import pandas as pd # Import Pandas First\n",
    "\n",
    "# To Keep Your Charts Inside iPython Notebook: \n",
    "%matplotlib inline\n",
    "import matplotlib\n",
    "\n",
    "pd.options.display.mpl_style = 'default' # To Get Prettier Layouts"
   ]
  },
  {
   "cell_type": "code",
   "execution_count": null,
   "metadata": {
    "collapsed": true
   },
   "outputs": [],
   "source": [
    "coffee = pd.read_csv(\"data/coffee_shop.csv\", \n",
    "                     parse_dates = True, # To Parse Dates (Which Are In Column 1))\n",
    "                     index_col=1) # To Use Dates As Indices"
   ]
  },
  {
   "cell_type": "code",
   "execution_count": null,
   "metadata": {
    "collapsed": true
   },
   "outputs": [],
   "source": [
    "coffee[['Margin','Total Expenses']].resample('M',how='sum').plot(ylim=[0,120])\n",
    "\n",
    "# To Display The Evolution Of Margins And Expenses\n",
    "# .resample(\"M\",how=\"sum\") Is To Sort By Month\n",
    "# ylim=[0,120] Is To Display y Axis Between 0 And 120"
   ]
  },
  {
   "cell_type": "code",
   "execution_count": null,
   "metadata": {
    "collapsed": true
   },
   "outputs": [],
   "source": [
    "coffee['Profit'].resample('Q',how='mean').plot(ylim=[0,80])\n",
    "\n",
    "# .resample('Q',how='mean') Is To Display By Quarter"
   ]
  },
  {
   "cell_type": "code",
   "execution_count": null,
   "metadata": {
    "collapsed": true
   },
   "outputs": [],
   "source": [
    "def part(x): # Function To Get The Percentage Of A Value, Use groupby(\"Label\").apply.(part) to Display The Result\n",
    "    return 100*x/float(x.sum())"
   ]
  },
  {
   "cell_type": "code",
   "execution_count": null,
   "metadata": {
    "collapsed": true
   },
   "outputs": [],
   "source": [
    ".plot(kind=\"barh\") # Horizontal Bar\n",
    ".plot(kind=\"scatter\",y=\"Label2\",x=\"Label1\") # ScatterPlot"
   ]
  },
  {
   "cell_type": "markdown",
   "metadata": {},
   "source": [
    "### Folium "
   ]
  },
  {
   "cell_type": "code",
   "execution_count": null,
   "metadata": {
    "collapsed": true
   },
   "outputs": [],
   "source": [
    "import folium\n",
    "from IPython.display import HTML\n",
    "\n",
    "def inline_map(map): # To Integrate Folium Within iPython Notebook\n",
    "    map._build_map()\n",
    "    return HTML('<iframe srcdoc=\"{srcdoc}\" style=\"width: 100%; height: 510px; border: none\"></iframe>'.format(srcdoc=map.HTML.replace('\"', '&quot;')))"
   ]
  },
  {
   "cell_type": "code",
   "execution_count": null,
   "metadata": {
    "collapsed": true
   },
   "outputs": [],
   "source": [
    "map = folium.Map(location=[48.8655909,2.378983], zoom_start=6)\n",
    "\n",
    "# Create A Map With Specific Latitude, Longitude And Zoom"
   ]
  },
  {
   "cell_type": "code",
   "execution_count": null,
   "metadata": {
    "collapsed": true
   },
   "outputs": [],
   "source": [
    "map.simple_marker([48.8655909,2.378983],popup=\"Pop-up!\") \n",
    "# To Pin A Specific Location On Your Map, With An Interactive Pop-Up\n",
    "map.circle_marker([48.8655909,2.378983]) # For a Simple Dot\n",
    "\n",
    "\n",
    "inline_map(map) # Display The Map"
   ]
  },
  {
   "cell_type": "markdown",
   "metadata": {},
   "source": [
    "#### Using Folium From Pandas DataFrames"
   ]
  },
  {
   "cell_type": "code",
   "execution_count": 10,
   "metadata": {
    "collapsed": true
   },
   "outputs": [],
   "source": [
    "import pandas as pd"
   ]
  },
  {
   "cell_type": "code",
   "execution_count": null,
   "metadata": {
    "collapsed": true
   },
   "outputs": [],
   "source": [
    "mcdo = pd.read_csv(\"data/McDonalds_Fr.csv\",encoding='latin-1') # Import The CSV File\n",
    "\n",
    "map_mcdo = folium.Map(location=[48.8655909,2.378983], zoom_start=6, tiles='Mapbox Bright')\n",
    "# Create A Centered Map With A \"Mapbox Bright\" Style\n",
    "\n",
    "for x in mcdo.values: # Loop To Append mcdo Values To The Map\n",
    "    location = []\n",
    "    location.append(x[1])\n",
    "    location.append(x[0])\n",
    "    map_mcdo.circle_marker(location,radius=4,fill_color='red',popup=x[2])\n",
    "\n",
    "inline_map(map_mcdo) # Display Map"
   ]
  },
  {
   "cell_type": "markdown",
   "metadata": {},
   "source": [
    "#### Using Folium From GeoJSON Files"
   ]
  },
  {
   "cell_type": "code",
   "execution_count": null,
   "metadata": {
    "collapsed": true
   },
   "outputs": [],
   "source": [
    "map_departement = folium.Map(location=[48,2], zoom_start=3) # Create Custom Map\n",
    "\n",
    "map_departement.geo_json(geo_path=\"data/departements.json\") # Import GeoJSON File With Geographical Polygons\n",
    "\n",
    "inline_map(map_departement) # Display"
   ]
  },
  {
   "cell_type": "code",
   "execution_count": null,
   "metadata": {
    "collapsed": false
   },
   "outputs": [],
   "source": [
    "# Merge CSV Data and a GeoJSON File In A Folium Map\n",
    "\n",
    "dep_data = pd.read_csv('data/dep_chomage.csv') # Import Input Data\n",
    "\n",
    "map_chomage = folium.Map(location=[48,2], zoom_start=3) # Create Map With Data\n",
    "\n",
    "map_chomage.geo_json(geo_path=\"data/departements.json\", data=dep_data, # Put The Data & The JSON File In the Map\n",
    "             columns=['CODE_DEPT', 'TAUX_CHOMAGE'],\n",
    "             key_on='feature.code',\n",
    "             fill_color='YlGn', fill_opacity=0.7, line_opacity=0.2,\n",
    "             legend_name='Unemployment Rate (%)') # Map Legend\n",
    "\n",
    "map_chomage.create_map(path='map_chomage.html') # Create The File"
   ]
  }
 ],
 "metadata": {
  "kernelspec": {
   "display_name": "Python 2",
   "language": "python",
   "name": "python2"
  },
  "language_info": {
   "codemirror_mode": {
    "name": "ipython",
    "version": 2
   },
   "file_extension": ".py",
   "mimetype": "text/x-python",
   "name": "python",
   "nbconvert_exporter": "python",
   "pygments_lexer": "ipython2",
   "version": "2.7.10"
  }
 },
 "nbformat": 4,
 "nbformat_minor": 0
}
